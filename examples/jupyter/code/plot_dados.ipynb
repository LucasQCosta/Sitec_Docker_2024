import pandas as pd
import matplotlib.pyplot as plt

# Ler o arquivo CSV
data = pd.read_csv('data.csv')

# Exibir os dados lidos
print("Dados lidos:")
print(data)

# Gerar o gráfico
plt.figure(figsize=(10, 6))
plt.plot(data['Mes'], data['Vendas'], marker='o', linestyle='-', linewidth=2)

# Personalizar o gráfico
plt.title('Vendas Mensais')
plt.xlabel('Mês')
plt.ylabel('Vendas (em unidades)')
plt.xticks(rotation=45)
plt.grid(True)
plt.tight_layout()  # Ajuste para evitar sobreposição de labels

# Salvar e mostrar o gráfico
plt.savefig('vendas_mensais.png')
plt.show()
